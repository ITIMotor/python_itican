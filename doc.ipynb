{
 "cells": [
  {
   "metadata": {},
   "cell_type": "markdown",
   "source": "## 1. 导入模块",
   "id": "22592359b702932c"
  },
  {
   "metadata": {
    "ExecuteTime": {
     "end_time": "2024-05-26T06:42:16.872099Z",
     "start_time": "2024-05-26T06:42:16.869505Z"
    }
   },
   "cell_type": "code",
   "source": [
    "from iticanwrapper import ITICANChannel\n",
    "from iticanwrapper import MessageType\n",
    "from iticanwrapper import OpenType\n",
    "from iticanwrapper import OpenMode\n",
    "from iticanwrapper import CANMessage\n",
    "from iticanwrapper import TxMode"
   ],
   "id": "6efe820f69227071",
   "outputs": [],
   "execution_count": 1045
  },
  {
   "metadata": {},
   "cell_type": "markdown",
   "source": [
    "## 2. 查找所有通道引用名\n",
    "\n",
    "`find_all_channels` 和 `get_channel` 之间没有强制的先后调用关系；如用户已知硬件的通道索引名，例如 'ITI 12345 ch0' , 可直接将字符索引值传入 `get_channel`，而不必先调用 `find_alL_channels`"
   ],
   "id": "bf37d47f6a59aff8"
  },
  {
   "metadata": {
    "ExecuteTime": {
     "end_time": "2024-05-26T06:42:16.901795Z",
     "start_time": "2024-05-26T06:42:16.883104Z"
    }
   },
   "cell_type": "code",
   "source": [
    "chn_index_s = []\n",
    "chn_count = []\n",
    "error_spec=[]\n",
    "rt = ITICANChannel.find_all_channels(chn_index_s, chn_count)\n",
    "ITICANChannel.get_last_error(rt,error_spec)\n",
    "print(\"所有通道索引：\",chn_index_s)\n",
    "print(\"检索通道个数：\",chn_count)\n",
    "print(\"检查错误状态：\",error_spec)"
   ],
   "id": "3ebb926637df6581",
   "outputs": [
    {
     "name": "stdout",
     "output_type": "stream",
     "text": [
      "所有通道索引： ['ITI 00210033 chn0']\n",
      "检索通道个数： [1]\n",
      "检查错误状态： ['no error.']\n"
     ]
    }
   ],
   "execution_count": 1046
  },
  {
   "metadata": {},
   "cell_type": "markdown",
   "source": "## 3. 解析错误码",
   "id": "33e585cfb19d34ab"
  },
  {
   "metadata": {
    "ExecuteTime": {
     "end_time": "2024-05-26T06:42:16.905242Z",
     "start_time": "2024-05-26T06:42:16.902802Z"
    }
   },
   "cell_type": "code",
   "source": [
    "ITICANChannel.get_last_error(rt,error_spec)\n",
    "print(\"检查错误状态：\",error_spec)"
   ],
   "id": "cfe5497d31284bde",
   "outputs": [
    {
     "name": "stdout",
     "output_type": "stream",
     "text": [
      "检查错误状态： ['no error.']\n"
     ]
    }
   ],
   "execution_count": 1047
  },
  {
   "metadata": {},
   "cell_type": "markdown",
   "source": [
    "## 4. 获取通道引用\n",
    "\n",
    "**注意：** ITICANChannel 类不可在类外部实例化，所有ITICANChannel类的实例对象均由静态成员函数 ITICANChannel.get_channel() 获取"
   ],
   "id": "b584b9d81f8d2d1e"
  },
  {
   "metadata": {
    "ExecuteTime": {
     "end_time": "2024-05-26T06:42:16.908982Z",
     "start_time": "2024-05-26T06:42:16.905242Z"
    }
   },
   "cell_type": "code",
   "source": [
    "target_chn_container0 = []\n",
    "rt = ITICANChannel.get_channel(target_chn_container0, chn_index_s[0])\n",
    "ITICANChannel.get_last_error(rt,error_spec)\n",
    "print(\"获取通道引用：\",target_chn_container0)\n",
    "print(\"检查错误状态：\",error_spec)"
   ],
   "id": "9b8f6c5d936fa9d0",
   "outputs": [
    {
     "name": "stdout",
     "output_type": "stream",
     "text": [
      "获取通道引用： [<iticanwrapper.itican_py_wrapper.ITICANChannel object at 0x0000015A70D3EB10>]\n",
      "检查错误状态： ['no error.']\n"
     ]
    }
   ],
   "execution_count": 1048
  },
  {
   "metadata": {},
   "cell_type": "markdown",
   "source": "## 5. 获取通道引用名",
   "id": "786cd8ec1817434d"
  },
  {
   "metadata": {
    "ExecuteTime": {
     "end_time": "2024-05-26T06:42:16.912579Z",
     "start_time": "2024-05-26T06:42:16.909988Z"
    }
   },
   "cell_type": "code",
   "source": [
    "chn_name=[]\n",
    "rt=target_chn_container0[0].get_channel_name(chn_name)\n",
    "print(\"获取通道索引：\",chn_name)\n",
    "ITICANChannel.get_last_error(rt,error_spec)\n",
    "print(\"检查错误状态：\",error_spec)"
   ],
   "id": "d77808426c6c19ba",
   "outputs": [
    {
     "name": "stdout",
     "output_type": "stream",
     "text": [
      "获取通道索引： ['ITI 00210033 chn0']\n",
      "检查错误状态： ['no error.']\n"
     ]
    }
   ],
   "execution_count": 1049
  },
  {
   "metadata": {},
   "cell_type": "markdown",
   "source": "## 开启通道，设置工作模式",
   "id": "bc05f732b815005d"
  },
  {
   "metadata": {
    "ExecuteTime": {
     "end_time": "2024-05-26T06:42:16.916144Z",
     "start_time": "2024-05-26T06:42:16.913584Z"
    }
   },
   "cell_type": "code",
   "source": [
    "rt=target_chn_container0[0].open_channel(OpenType.FD_CAN, OpenMode.Normal)\n",
    "ITICANChannel.get_last_error(rt,error_spec)\n",
    "print(\"检查错误状态：\",error_spec)"
   ],
   "id": "7366406ffde99b89",
   "outputs": [
    {
     "name": "stdout",
     "output_type": "stream",
     "text": [
      "检查错误状态： ['no error.']\n"
     ]
    }
   ],
   "execution_count": 1050
  },
  {
   "metadata": {},
   "cell_type": "markdown",
   "source": [
    "## 6. 设置波特率\n",
    "提供两种设置波特率方式，可参照[默认波特率](./README.md#span-idpreset_baud_tableusbcan-预设波特率表span)或根据公式计算\n",
    "\n",
    "**can clock frequency = 80Mhz**"
   ],
   "id": "3491f53f18ce5703"
  },
  {
   "metadata": {
    "ExecuteTime": {
     "end_time": "2024-05-26T06:42:16.920167Z",
     "start_time": "2024-05-26T06:42:16.916144Z"
    }
   },
   "cell_type": "code",
   "source": [
    "rt=target_chn_container0[0].set_baud_rate(500000) # 500k 仲裁段波特率\n",
    "ITICANChannel.get_last_error(rt,error_spec)\n",
    "print(\"检查错误状态：\",error_spec)\n",
    "rt=target_chn_container0[0].set_fd_baud_rate(2000000) # 2M 数据段波特率\n",
    "ITICANChannel.get_last_error(rt,error_spec)\n",
    "print(\"检查错误状态：\",error_spec)"
   ],
   "id": "8a89f345a1a4768d",
   "outputs": [
    {
     "name": "stdout",
     "output_type": "stream",
     "text": [
      "检查错误状态： ['no error.']\n",
      "检查错误状态： ['no error.']\n"
     ]
    }
   ],
   "execution_count": 1051
  },
  {
   "metadata": {},
   "cell_type": "markdown",
   "source": "## 7. 应用设置",
   "id": "295b641c36e1c66b"
  },
  {
   "metadata": {
    "ExecuteTime": {
     "end_time": "2024-05-26T06:42:16.923071Z",
     "start_time": "2024-05-26T06:42:16.920167Z"
    }
   },
   "cell_type": "code",
   "source": [
    "rt=target_chn_container0[0].apply_settings(False)\n",
    "ITICANChannel.get_last_error(rt,error_spec)\n",
    "print(\"检查错误状态：\",error_spec)"
   ],
   "id": "c9d6d44cdc95f5ea",
   "outputs": [
    {
     "name": "stdout",
     "output_type": "stream",
     "text": [
      "检查错误状态： ['no error.']\n"
     ]
    }
   ],
   "execution_count": 1052
  },
  {
   "metadata": {},
   "cell_type": "markdown",
   "source": "## 8. 发送CAN消息",
   "id": "d3d29b4567257b32"
  },
  {
   "metadata": {
    "ExecuteTime": {
     "end_time": "2024-05-26T06:42:16.930710Z",
     "start_time": "2024-05-26T06:42:16.923071Z"
    }
   },
   "cell_type": "code",
   "source": [
    "data = [1, 2, 3, 4, 5, 6, 7, 8, 9, 10, 11, 12, 13, 14, 15, 16, 17, 18, 19]\n",
    "can_msg = CANMessage(1, MessageType.FD_BRS_CAN, 0, data)\n",
    "for i in range(1000):\n",
    "    rt=target_chn_container0[0].set_message(can_msg, 0)\n",
    "    if rt!=0:\n",
    "        break\n",
    "ITICANChannel.get_last_error(rt,error_spec)\n",
    "print(\"检查错误状态：\",error_spec)"
   ],
   "id": "b0052a051dae7b34",
   "outputs": [
    {
     "name": "stdout",
     "output_type": "stream",
     "text": [
      "检查错误状态： ['no error.']\n"
     ]
    }
   ],
   "execution_count": 1053
  }
 ],
 "metadata": {
  "kernelspec": {
   "display_name": "Python 3",
   "language": "python",
   "name": "python3"
  },
  "language_info": {
   "codemirror_mode": {
    "name": "ipython",
    "version": 2
   },
   "file_extension": ".py",
   "mimetype": "text/x-python",
   "name": "python",
   "nbconvert_exporter": "python",
   "pygments_lexer": "ipython2",
   "version": "2.7.6"
  }
 },
 "nbformat": 4,
 "nbformat_minor": 5
}
